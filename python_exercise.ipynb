{
 "cells": [
  {
   "cell_type": "markdown",
   "metadata": {},
   "source": [
    "## Word Search\n",
    "\n",
    "Fungsi word_search ini bertujuan untuk mencari indeks-indeks dokumen dalam daftar doc_list di mana kata kunci (keyword) ditemukan. Berikut adalah penjelasan dari setiap langkah di dalamnya:\n",
    "\n",
    "indices = []: Inisialisasi sebuah list kosong yang akan menyimpan indeks dokumen yang cocok dengan kata kunci.\n",
    "\n",
    "for i, doc in enumerate(doc_list):: Iterasi melalui indeks (i) dan elemen (doc) dalam daftar dokumen (doc_list). Fungsi enumerate digunakan untuk mendapatkan indeks dan elemen dari doc_list.\n",
    "\n",
    "tokens = doc.split(): Memisahkan string doc menjadi daftar kata (tokens) dengan menggunakan spasi sebagai delimiter. Ini memisahkan string menjadi kata-kata.\n",
    "\n",
    "normalized = [token.rstrip('.,').lower() for token in tokens]: Membuat daftar normalized di mana setiap kata dalam tokens diubah menjadi huruf kecil dan tanda baca seperti titik dan koma dihapus dari akhir kata. Ini dilakukan untuk memastikan kesesuaian yang lebih baik dengan kata kunci, tanpa memperhatikan tanda baca yang mungkin ada di akhir kata dalam dokumen.\n",
    "\n",
    "if keyword.lower() in normalized:: Memeriksa apakah kata kunci (setelah diubah menjadi huruf kecil) ada dalam daftar normalized. Jika iya, maka dokumen tersebut cocok dengan kata kunci, dan indeksnya akan ditambahkan ke dalam indices.\n",
    "\n",
    "return indices: Mengembalikan list indices yang berisi indeks-indeks dokumen yang cocok dengan kata kunci.\n",
    "\n",
    "Dengan demikian, fungsi ini akan mengembalikan indeks-indeks dokumen dalam doc_list di mana kata kunci ditemukan."
   ]
  },
  {
   "cell_type": "code",
   "execution_count": 1,
   "metadata": {},
   "outputs": [],
   "source": [
    "def word_search(doc_list, keyword):\n",
    "    # list to hold the indices of matching documents\n",
    "    indices = [] \n",
    "    # Iterate through the indices (i) and elements (doc) of documents\n",
    "    for i, doc in enumerate(doc_list):\n",
    "        # Split the string doc into a list of words (according to whitespace)\n",
    "        tokens = doc.split()\n",
    "        # Make a transformed list where we 'normalize' each word to facilitate matching.\n",
    "        # Periods and commas are removed from the end of each word, and it's set to all lowercase.\n",
    "        normalized = [token.rstrip('.,').lower() for token in tokens]\n",
    "        # Is there a match? If so, update the list of matching indices.\n",
    "        if keyword.lower() in normalized:\n",
    "            indices.append(i)\n",
    "    return indices"
   ]
  },
  {
   "cell_type": "markdown",
   "metadata": {},
   "source": [
    "## multi_word_search\n",
    "Fungsi multi_word_search ini bertujuan untuk mencari indeks-indeks dokumen di mana setiap kata kunci dalam keywords ditemukan dalam daftar documents. Langkah-langkah yang dilakukan adalah sebagai berikut:\n",
    "\n",
    "keyword_to_indices = {}: Inisialisasi kamus kosong yang akan digunakan untuk menyimpan hasil pencarian kata kunci ke indeks-indeks dokumen.\n",
    "\n",
    "for keyword in keywords:: Iterasi melalui setiap kata kunci dalam keywords.\n",
    "\n",
    "keyword_to_indices[keyword] = word_search(documents, keyword): Memanggil fungsi word_search untuk mencari indeks-indeks dokumen di mana kata kunci keyword ditemukan dalam daftar documents. Hasilnya disimpan dalam kamus keyword_to_indices dengan kata kunci sebagai kunci dan daftar indeks sebagai nilai.\n",
    "\n",
    "return keyword_to_indices: Mengembalikan kamus keyword_to_indices yang berisi indeks-indeks dokumen di mana setiap kata kunci ditemukan.\n",
    "\n",
    "Dengan demikian, fungsi multi_word_search akan memberikan hasil pencarian untuk setiap kata kunci dalam bentuk kamus, di mana setiap kunci adalah kata kunci dan nilainya adalah daftar indeks di mana kata kunci tersebut ditemukan dalam dokumen."
   ]
  },
  {
   "cell_type": "code",
   "execution_count": 2,
   "metadata": {},
   "outputs": [],
   "source": [
    "def multi_word_search(documents, keywords):\n",
    "    keyword_to_indices = {}\n",
    "    for keyword in keywords:\n",
    "        keyword_to_indices[keyword] = word_search(documents, keyword)\n",
    "    return keyword_to_indices"
   ]
  },
  {
   "cell_type": "markdown",
   "metadata": {},
   "source": [
    "# Exercise: Working with External Libraries"
   ]
  },
  {
   "cell_type": "markdown",
   "metadata": {},
   "source": [
    "## prettify_graph\n",
    "Fungsi prettify_graph ini dirancang untuk memperindah tampilan grafik yang diberikan dengan mengatur beberapa properti penting. Berikut adalah penjelasan untuk setiap langkah di dalamnya:\n",
    "\n",
    "graph.set_title(\"Results of 500 slot machine pulls\"): Mengatur judul grafik menjadi \"Results of 500 slot machine pulls\".\n",
    "\n",
    "graph.set_ylim(bottom=0): Mengatur batas bawah sumbu y menjadi 0. Hal ini berguna untuk memastikan bahwa grafik dimulai dari nilai 0 pada sumbu y, sehingga tidak ada bagian dari grafik yang terpotong.\n",
    "\n",
    "graph.set_ylabel(\"Balance\"): Menyertakan label \"Balance\" pada sumbu y. Ini memberikan informasi tentang apa yang diukur oleh sumbu y, dalam hal ini adalah saldo.\n",
    "\n",
    "ticks = graph.get_yticks(): Mengambil nilai-nilai yang ditampilkan pada sumbu y. Ini berguna untuk memformat ulang label-label sumbu y.\n",
    "\n",
    "new_labels = ['${}'.format(int(amt)) for amt in ticks]: Mengubah nilai-nilai yang ditampilkan pada sumbu y menjadi format string dengan menambahkan tanda dolar di depannya. Ini dilakukan dengan menggunakan list comprehension untuk mengiterasi melalui setiap nilai pada sumbu y, mengonversinya menjadi integer (karena formatnya adalah jumlah uang), dan kemudian menambahkan tanda dolar di depannya.\n",
    "\n",
    "graph.set_yticklabels(new_labels): Mengatur ulang label-label pada sumbu y dengan label-label yang baru yang telah diformat sebelumnya.\n",
    "\n",
    "Dengan demikian, fungsi ini memperindah tampilan grafik dengan mengatur judul, batas sumbu y, label sumbu y, dan format nilai-nilai pada sumbu y menjadi format uang yang lebih mudah dibaca."
   ]
  },
  {
   "cell_type": "code",
   "execution_count": 4,
   "metadata": {},
   "outputs": [],
   "source": [
    "def prettify_graph(graph):\n",
    "    graph.set_title(\"Results of 500 slot machine pulls\")\n",
    "    # Make the y-axis begin at 0\n",
    "    graph.set_ylim(bottom=0)\n",
    "    # Label the y-axis\n",
    "    graph.set_ylabel(\"Balance\")\n",
    "    # Bonus: format the numbers on the y-axis as dollar amounts\n",
    "    # An array of the values displayed on the y-axis (150, 175, 200, etc.)\n",
    "    ticks = graph.get_yticks()\n",
    "    # Format those values into strings beginning with dollar sign\n",
    "    new_labels = ['${}'.format(int(amt)) for amt in ticks]\n",
    "    # Set the new labels\n",
    "    graph.set_yticklabels(new_labels)"
   ]
  },
  {
   "cell_type": "markdown",
   "metadata": {},
   "source": [
    "## best_items\n",
    "Fungsi best_items ini bertujuan untuk menganalisis data mengenai item yang diambil oleh pembalap yang finis di posisi pertama dalam perlombaan. Berikut adalah penjelasan langkah-langkah di dalamnya:\n",
    "\n",
    "winner_item_counts = {}: Inisialisasi kamus kosong yang akan digunakan untuk menyimpan jumlah item yang diambil oleh pembalap yang finis di posisi pertama.\n",
    "\n",
    "for i in range(len(racers)):: Melakukan iterasi melalui setiap pembalap dalam daftar racers menggunakan indeks dari 0 hingga panjang racers.\n",
    "\n",
    "racer = racers[i]: Mengambil data pembalap ke-i dari daftar racers.\n",
    "\n",
    "if racer['finish'] == 1:: Memeriksa apakah pembalap tersebut finis di posisi pertama. Jika iya, kita tertarik pada item-item yang diambilnya.\n",
    "\n",
    "for i in racer['items']:: Melakukan iterasi melalui setiap item yang diambil oleh pembalap tersebut.\n",
    "\n",
    "if i not in winner_item_counts:: Memeriksa apakah item tersebut sudah ada dalam kamus winner_item_counts. Jika belum, item tersebut ditambahkan ke kamus dengan jumlah awal 0.\n",
    "\n",
    "winner_item_counts[i] += 1: Menambahkan satu ke jumlah item tersebut dalam kamus winner_item_counts.\n",
    "\n",
    "Setelah iterasi selesai, fungsi akan mengembalikan kamus winner_item_counts yang berisi jumlah setiap item yang diambil oleh pembalap yang finis di posisi pertama.\n",
    "\n",
    "Selain itu, fungsi juga mencetak peringatan jika ditemukan pembalap tanpa nama (racer['name'] is None). Peringatan ini membantu untuk mengidentifikasi masalah kualitas data yang perlu diperbaiki."
   ]
  },
  {
   "cell_type": "code",
   "execution_count": 8,
   "metadata": {},
   "outputs": [],
   "source": [
    "def best_items(racers):\n",
    "    \"\"\"Given a list of racer dictionaries, return a dictionary mapping items to the number\n",
    "    of times those items were picked up by racers who finished in first place.\n",
    "    \"\"\"\n",
    "    winner_item_counts = {}\n",
    "    for i in range(len(racers)):\n",
    "        # The i'th racer dictionary\n",
    "        racer = racers[i]\n",
    "        # We're only interested in racers who finished in first\n",
    "        if racer['finish'] == 1:\n",
    "            for i in racer['items']:\n",
    "                # Add one to the count for this item (adding it to the dict if necessary)\n",
    "                if i not in winner_item_counts:\n",
    "                    winner_item_counts[i] = 0\n",
    "                winner_item_counts[i] += 1\n",
    "\n",
    "        # Data quality issues :/ Print a warning about racers with no name set. We'll take care of it later.\n",
    "        if racer['name'] is None:\n",
    "            print(\"WARNING: Encountered racer with unknown name on iteration {}/{} (racer = {})\".format(\n",
    "                i+1, len(racers), racer['name'])\n",
    "                 )\n",
    "    return winner_item_counts"
   ]
  },
  {
   "cell_type": "markdown",
   "metadata": {},
   "source": [
    "Untuk memperbaiki fungsi best_items, kita perlu memperbaiki iterasi terhadap item pada baris ke-9. Saat ini, variabel iterasi i digunakan dua kali: pertama sebagai indeks dalam loop pembalap dan kedua sebagai nilai item yang diambil oleh pembalap tersebut. Ini mengakibatkan perulangan item tidak berfungsi dengan benar, karena nilai i dapat berubah pada setiap iterasi dalam loop pembalap.\n",
    "\n",
    "Berikut adalah versi perbaikan dari fungsi best_items:"
   ]
  },
  {
   "cell_type": "code",
   "execution_count": 10,
   "metadata": {},
   "outputs": [],
   "source": [
    "def best_items(racers):\n",
    "    winner_item_counts = {}\n",
    "    for racer in racers:\n",
    "        # We're only interested in racers who finished in first\n",
    "        if racer['finish'] == 1:\n",
    "            for item in racer['items']:\n",
    "                # Add one to the count for this item (adding it to the dict if necessary)\n",
    "                if item not in winner_item_counts:\n",
    "                    winner_item_counts[item] = 0\n",
    "                winner_item_counts[item] += 1\n",
    "\n",
    "        # Data quality issues :/ Print a warning about racers with no name set. We'll take care of it later.\n",
    "        if racer['name'] is None:\n",
    "            print(\"WARNING: Encountered racer with unknown name on iteration {}/{} (racer = {})\".format(\n",
    "                racers.index(racer) + 1, len(racers), racer['name'])\n",
    "                 )\n",
    "    return winner_item_counts\n"
   ]
  },
  {
   "cell_type": "markdown",
   "metadata": {},
   "source": [
    "## blackjack_hand_greater_than\n",
    "Fungsi blackjack_hand_greater_than ini mengimplementasikan logika untuk menentukan apakah satu tangan blackjack mengalahkan tangan blackjack lainnya. Berikut adalah penjelasan langkah-langkah di dalamnya:\n",
    "\n",
    "def total(hand):: Ini adalah fungsi internal yang digunakan untuk menghitung total nilai tangan. Fungsi ini menerima daftar kartu (hand) sebagai argumen dan mengembalikan total nilai tangan.\n",
    "\n",
    "total_val = 0 dan num_aces = 0: Variabel ini digunakan untuk melacak total nilai tangan dan jumlah kartu As (Aces) dalam tangan.\n",
    "\n",
    "for card in hand:: Melakukan iterasi melalui setiap kartu dalam tangan.\n",
    "\n",
    "if card in ['J', 'Q', 'K']:: Jika kartu adalah Jack (J), Queen (Q), atau King (K), tambahkan nilai 10 ke total nilai tangan.\n",
    "\n",
    "elif card == 'A':: Jika kartu adalah As (A), tambahkan 1 ke total nilai tangan dan tambahkan 1 ke jumlah kartu As.\n",
    "\n",
    "else:: Untuk kartu-kartu lainnya, tambahkan nilai kartu tersebut ke total nilai tangan setelah mengonversinya menjadi integer.\n",
    "\n",
    "Setelah menambahkan nilai untuk setiap kartu, kita meninjau kembali jumlah kartu As. Jika menambahkan 10 ke total nilai tangan tidak membuatnya melampaui 21, maka tambahkan 10 untuk setiap kartu As.\n",
    "\n",
    "total_1 = total(hand_1) dan total_2 = total(hand_2): Menghitung total nilai tangan untuk kedua tangan yang diberikan menggunakan fungsi total.\n",
    "\n",
    "Selanjutnya, fungsi memeriksa kondisi berikut secara berurutan:\n",
    "\n",
    "Jika total nilai tangan pertama (total_1) melebihi 21, kembalikan False karena tangan pertama sudah kalah.\n",
    "Jika total nilai tangan kedua (total_2) melebihi 21, kembalikan True karena tangan kedua sudah kalah.\n",
    "Jika tidak ada yang melebihi 21, bandingkan total nilai tangan kedua tangan. Jika total nilai tangan pertama lebih besar, kembalikan True; jika tidak, kembalikan False.\n",
    "Dengan demikian, fungsi ini mengimplementasikan aturan-aturan blackjack untuk menentukan tangan mana yang menang dalam permainan blackjack.\n",
    "\n",
    "\n",
    "\n",
    "\n",
    "\n"
   ]
  },
  {
   "cell_type": "code",
   "execution_count": 12,
   "metadata": {},
   "outputs": [],
   "source": [
    "def blackjack_hand_greater_than(hand_1, hand_2):\n",
    "    def total(hand):\n",
    "        total_val = 0\n",
    "        num_aces = 0\n",
    "        for card in hand:\n",
    "            if card in ['J', 'Q', 'K']:\n",
    "                total_val += 10\n",
    "            elif card == 'A':\n",
    "                num_aces += 1\n",
    "                total_val += 1\n",
    "            else:\n",
    "                total_val += int(card)\n",
    "        \n",
    "        # Add 10 for each ace if it doesn't exceed 21\n",
    "        for _ in range(num_aces):\n",
    "            if total_val + 10 <= 21:\n",
    "                total_val += 10\n",
    "        \n",
    "        return total_val\n",
    "    \n",
    "    total_1 = total(hand_1)\n",
    "    total_2 = total(hand_2)\n",
    "    \n",
    "    if total_1 > 21:\n",
    "        return False\n",
    "    elif total_2 > 21:\n",
    "        return True\n",
    "    else:\n",
    "        return total_1 > total_2\n"
   ]
  },
  {
   "cell_type": "code",
   "execution_count": null,
   "metadata": {},
   "outputs": [],
   "source": []
  },
  {
   "cell_type": "markdown",
   "metadata": {},
   "source": [
    "# Exercise: Loops and List Comprehensions"
   ]
  },
  {
   "cell_type": "markdown",
   "metadata": {},
   "source": [
    "## has_lucky_number\n",
    "Fungsi has_lucky_number bertujuan untuk memeriksa apakah ada angka dalam daftar yang diberikan (nums) yang dapat dibagi habis oleh 7. Berikut adalah penjelasan langkah-langkah di dalamnya:\n",
    "\n",
    "for num in nums:: Melakukan iterasi melalui setiap angka dalam daftar yang diberikan.\n",
    "\n",
    "if num % 7 == 0:: Memeriksa apakah angka tersebut dapat dibagi habis oleh 7 dengan menggunakan operator modulo (%). Jika sisa pembagian angka dengan 7 adalah 0, itu berarti angka tersebut dapat dibagi habis oleh 7.\n",
    "\n",
    "return True: Jika ada angka dalam daftar yang dapat dibagi habis oleh 7, maka fungsi akan langsung mengembalikan True dan berhenti.\n",
    "\n",
    "Setelah iterasi selesai, jika tidak ada angka dalam daftar yang dapat dibagi habis oleh 7, maka fungsi akan mencapai baris return False dan mengembalikan False.\n",
    "\n",
    "Dengan demikian, fungsi ini memeriksa setiap angka dalam daftar yang diberikan dan mengembalikan True jika ada angka yang dapat dibagi habis oleh 7, dan False jika tidak ada."
   ]
  },
  {
   "cell_type": "code",
   "execution_count": 13,
   "metadata": {},
   "outputs": [],
   "source": [
    "def has_lucky_number(nums):\n",
    "    \"\"\"Return whether the given list of numbers is lucky. A lucky list contains\n",
    "    at least one number divisible by 7.\n",
    "    \"\"\"\n",
    "    for num in nums:\n",
    "        if num % 7 == 0:\n",
    "            return True\n",
    "    return False\n"
   ]
  },
  {
   "cell_type": "code",
   "execution_count": null,
   "metadata": {},
   "outputs": [],
   "source": []
  }
 ],
 "metadata": {
  "kernelspec": {
   "display_name": "Python 3",
   "language": "python",
   "name": "python3"
  },
  "language_info": {
   "codemirror_mode": {
    "name": "ipython",
    "version": 3
   },
   "file_extension": ".py",
   "mimetype": "text/x-python",
   "name": "python",
   "nbconvert_exporter": "python",
   "pygments_lexer": "ipython3",
   "version": "3.9.13"
  }
 },
 "nbformat": 4,
 "nbformat_minor": 2
}
